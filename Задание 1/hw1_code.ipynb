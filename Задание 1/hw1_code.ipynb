{
 "cells": [
  {
   "cell_type": "code",
   "execution_count": 103,
   "id": "984b7e8c",
   "metadata": {},
   "outputs": [
    {
     "name": "stdout",
     "output_type": "stream",
     "text": [
      "Requirement already satisfied: pillow in c:\\users\\t.nurgaliev\\pycharmprojects\\pythonproject\\venv\\lib\\site-packages (8.4.0)\n",
      "Requirement already satisfied: numpy in c:\\users\\t.nurgaliev\\pycharmprojects\\pythonproject\\venv\\lib\\site-packages (1.21.3)\n",
      "Requirement already satisfied: matplotlib in c:\\users\\t.nurgaliev\\pycharmprojects\\pythonproject\\venv\\lib\\site-packages (3.4.3)\n",
      "Requirement already satisfied: pillow>=6.2.0 in c:\\users\\t.nurgaliev\\pycharmprojects\\pythonproject\\venv\\lib\\site-packages (from matplotlib) (8.4.0)\n",
      "Requirement already satisfied: kiwisolver>=1.0.1 in c:\\users\\t.nurgaliev\\pycharmprojects\\pythonproject\\venv\\lib\\site-packages (from matplotlib) (1.3.2)\n",
      "Requirement already satisfied: pyparsing>=2.2.1 in c:\\users\\t.nurgaliev\\pycharmprojects\\pythonproject\\venv\\lib\\site-packages (from matplotlib) (2.4.7)\n",
      "Requirement already satisfied: numpy>=1.16 in c:\\users\\t.nurgaliev\\pycharmprojects\\pythonproject\\venv\\lib\\site-packages (from matplotlib) (1.21.3)\n",
      "Requirement already satisfied: python-dateutil>=2.7 in c:\\users\\t.nurgaliev\\pycharmprojects\\pythonproject\\venv\\lib\\site-packages (from matplotlib) (2.8.2)\n",
      "Requirement already satisfied: cycler>=0.10 in c:\\users\\t.nurgaliev\\pycharmprojects\\pythonproject\\venv\\lib\\site-packages (from matplotlib) (0.10.0)\n",
      "Requirement already satisfied: six in c:\\users\\t.nurgaliev\\pycharmprojects\\pythonproject\\venv\\lib\\site-packages (from cycler>=0.10->matplotlib) (1.16.0)\n",
      "Collecting scipy\n",
      "  Downloading scipy-1.7.1-cp38-cp38-win_amd64.whl (33.7 MB)\n",
      "Requirement already satisfied: numpy<1.23.0,>=1.16.5 in c:\\users\\t.nurgaliev\\pycharmprojects\\pythonproject\\venv\\lib\\site-packages (from scipy) (1.21.3)\n",
      "Installing collected packages: scipy\n",
      "Successfully installed scipy-1.7.1\n"
     ]
    }
   ],
   "source": [
    "! pip install pillow\n",
    "! pip install numpy\n",
    "! pip install matplotlib\n",
    "! pip install scipy"
   ]
  },
  {
   "cell_type": "code",
   "execution_count": 10,
   "id": "ffcb6a9d",
   "metadata": {},
   "outputs": [
    {
     "data": {
      "text/plain": [
       "((2073, 4176), (2073, 4176, 3))"
      ]
     },
     "execution_count": 10,
     "metadata": {},
     "output_type": "execute_result"
    }
   ],
   "source": [
    "from PIL import Image\n",
    "import numpy as np\n",
    "cfa = np.array(Image.open('CFA.bmp'))\n",
    "rgb_cfa = np.array(Image.open('RGB_CFA.bmp'))\n",
    "\n",
    "cfa.shape, rgb_cfa.shape"
   ]
  },
  {
   "cell_type": "markdown",
   "id": "24238162",
   "metadata": {},
   "source": [
    "### VNG"
   ]
  },
  {
   "cell_type": "markdown",
   "id": "b0c00db4",
   "metadata": {},
   "source": [
    "#### Шаг 1. Получим матрицу цветов"
   ]
  },
  {
   "cell_type": "markdown",
   "id": "7b44a462",
   "metadata": {},
   "source": [
    "В каждой ячейке - номер цвета, для которого нам известна интенсивность"
   ]
  },
  {
   "cell_type": "code",
   "execution_count": 51,
   "id": "56a6cb9b",
   "metadata": {},
   "outputs": [],
   "source": [
    "R = 0\n",
    "G = 1\n",
    "B = 2"
   ]
  },
  {
   "cell_type": "code",
   "execution_count": 52,
   "id": "7a63f04b",
   "metadata": {},
   "outputs": [],
   "source": [
    "def get_color(rgb: np.array):\n",
    "    not_zero = np.where(rgb != 0)[0]\n",
    "    if not_zero.size != 1:\n",
    "        raise ValueError('Multiple non-zero channels in rgb_cfa. Unable to detect pixel color')\n",
    "    return not_zero[0]"
   ]
  },
  {
   "cell_type": "code",
   "execution_count": 53,
   "id": "4dd5fbcb",
   "metadata": {},
   "outputs": [
    {
     "data": {
      "text/plain": [
       "array([[0, 1],\n",
       "       [1, 2]], dtype=int64)"
      ]
     },
     "execution_count": 53,
     "metadata": {},
     "output_type": "execute_result"
    }
   ],
   "source": [
    "BAYER_FILTER = np.apply_along_axis(get_color, -1, rgb_cfa[:2, :2])\n",
    "BAYER_FILTER"
   ]
  },
  {
   "cell_type": "code",
   "execution_count": 54,
   "id": "70f909c2",
   "metadata": {},
   "outputs": [
    {
     "data": {
      "text/plain": [
       "(1037, 2088)"
      ]
     },
     "execution_count": 54,
     "metadata": {},
     "output_type": "execute_result"
    }
   ],
   "source": [
    "import math\n",
    "\n",
    "cfa_x, cfa_y = cfa.shape\n",
    "bayer_x, bayer_y = BAYER_FILTER.shape\n",
    "reps = math.ceil(cfa_x / bayer_x), math.ceil(cfa_y / bayer_y)\n",
    "reps"
   ]
  },
  {
   "cell_type": "code",
   "execution_count": 55,
   "id": "fa7786d2",
   "metadata": {},
   "outputs": [
    {
     "name": "stdout",
     "output_type": "stream",
     "text": [
      "[[0 1 0 ... 1 0 1]\n",
      " [1 2 1 ... 2 1 2]\n",
      " [0 1 0 ... 1 0 1]\n",
      " ...\n",
      " [0 1 0 ... 1 0 1]\n",
      " [1 2 1 ... 2 1 2]\n",
      " [0 1 0 ... 1 0 1]] (2073, 4176)\n"
     ]
    }
   ],
   "source": [
    "color_map = np.tile(BAYER_FILTER, reps)[:cfa_x, :cfa_y]\n",
    "print(color_map, colors.shape)"
   ]
  },
  {
   "cell_type": "markdown",
   "id": "fafac5ac",
   "metadata": {},
   "source": [
    "#### Шаг 2. Посчитаем градиенты и значения цветов по всем направлениям"
   ]
  },
  {
   "cell_type": "code",
   "execution_count": 104,
   "id": "c48c84e3",
   "metadata": {},
   "outputs": [],
   "source": [
    "a = np.array([[1,1,1,1,1], [1,1,1,1,1],[1,1,1,1,1],[1,1,1,1,1],[1,1,1,1,1]])\n",
    "b = np.array([[1,1,1], [1,1,1], [1,1,1]])"
   ]
  },
  {
   "cell_type": "code",
   "execution_count": 107,
   "id": "2bd1af48",
   "metadata": {},
   "outputs": [
    {
     "data": {
      "text/plain": [
       "array([[9, 9, 9],\n",
       "       [9, 9, 9],\n",
       "       [9, 9, 9]])"
      ]
     },
     "execution_count": 107,
     "metadata": {},
     "output_type": "execute_result"
    }
   ],
   "source": [
    "from scipy import signal\n",
    "signal.convolve2d(a, b, mode='valid')"
   ]
  },
  {
   "cell_type": "code",
   "execution_count": 116,
   "id": "6d2a45b8",
   "metadata": {},
   "outputs": [
    {
     "data": {
      "text/plain": [
       "(array([[ 1,  2,  3,  4],\n",
       "        [ 5,  6,  7,  8],\n",
       "        [ 9, 10, 11, 12],\n",
       "        [13, 14, 15, 16]]),\n",
       " array([[ 0,  0,  0,  0,  0,  0,  0,  0,  0,  0],\n",
       "        [ 0,  0,  0,  0,  0,  0,  0,  0,  0,  0],\n",
       "        [ 0,  0,  0,  0,  0,  0,  0,  0,  0,  0],\n",
       "        [ 0,  0,  0,  1,  2,  3,  4,  0,  0,  0],\n",
       "        [ 0,  0,  0,  5,  6,  7,  8,  0,  0,  0],\n",
       "        [ 0,  0,  0,  9, 10, 11, 12,  0,  0,  0],\n",
       "        [ 0,  0,  0, 13, 14, 15, 16,  0,  0,  0],\n",
       "        [ 0,  0,  0,  0,  0,  0,  0,  0,  0,  0],\n",
       "        [ 0,  0,  0,  0,  0,  0,  0,  0,  0,  0],\n",
       "        [ 0,  0,  0,  0,  0,  0,  0,  0,  0,  0]]))"
      ]
     },
     "execution_count": 116,
     "metadata": {},
     "output_type": "execute_result"
    }
   ],
   "source": [
    "a = np.array([[1,2,3,4], [5,6,7,8], [9,10,11,12], [13,14,15,16]])\n",
    "padded = np.pad(a, ((3,3), (3,3)), 'constant', constant_values=0)\n",
    "a, padded"
   ]
  },
  {
   "cell_type": "code",
   "execution_count": 125,
   "id": "6917c2e3",
   "metadata": {},
   "outputs": [
    {
     "data": {
      "text/plain": [
       "array([[ 1, -7, -7, -7],\n",
       "       [ 5, -7, -7, -7],\n",
       "       [ 9, 10, 11, 12],\n",
       "       [13, 14, 15, 16]])"
      ]
     },
     "execution_count": 125,
     "metadata": {},
     "output_type": "execute_result"
    }
   ],
   "source": [
    "a - padded[5:-1, 2:-4]"
   ]
  },
  {
   "cell_type": "code",
   "execution_count": 130,
   "id": "d12671d5",
   "metadata": {},
   "outputs": [],
   "source": [
    "def calc_directions_and_grads(cfa: np.array, color_map: np.array):\n",
    "    # pad cfa and color_map with zeros\n",
    "    padded_cfa = np.pad(cfa, ((2, 2), (2, 2)), 'constant', constant_values=0)\n",
    "    padded_3_cfa = np.pad(cfa, ((3, 3), (3, 3)), 'constant', constant_values=0)\n",
    "    padded_color_map = np.pad(color_map, ((2,2), (2,2)), 'constant', constant_values=0)\n",
    "    \n",
    "    # <DIRECTION>_1 - in <DIRECTION> with step 1\n",
    "    # <DIRECTION>_2 - in <DIRECTION> with step 2\n",
    "    # <DIRECTION1>_<DIRECTION2> - in <DIRECTION1> with step1, then in <DIRECTION2> with step 1\n",
    "    N_1 = padded_cfa[1:-3, 2:-2]\n",
    "    N_2 = padded_cfa[:-4, 2:-2]\n",
    "    E_1 = padded_cfa[2:-2, 3:-1]\n",
    "    E_2 = padded_cfa[2:-2, 4:]\n",
    "    S_1 = padded_cfa[3:-1, 2:-2]\n",
    "    S_2 = padded_cfa[4:, 2:-2]\n",
    "    W_1 = padded_cfa[2:-2, 1:-3]\n",
    "    W_2 = padded_cfa[2:-2, :-4]\n",
    "    NE_1 = padded_cfa[1:-3, 3:-1]\n",
    "    NE_2 = padded_cfa[:-4, 4:]\n",
    "    NE_N = padded_3_cfa[1:-5, 4:-2]\n",
    "    NE_E = padded_3_cfa[2:-4, 5:-1]\n",
    "    SE_1 = padded_cfa[3:-1, 3:-1]\n",
    "    SE_2 = padded_cfa[4:, 4:]\n",
    "    SE_E = padded_3_cfa[4:-2, 5:-1]\n",
    "    SE_S = padded_3_cfa[5:-1, 4:-2]\n",
    "    NW_1 = padded_cfa[1:-3, 1:-3]\n",
    "    NW_2 = padded_cfa[:-4, :-4]\n",
    "    NW_N = padded_3_cfa[1:-5, 2:-4]\n",
    "    NW_W = padded_3_cfa[2:-4, 1:-5]\n",
    "    SW_1 = padded_cfa[3:-1, 1:-3]\n",
    "    SW_2 = padded_cfa[4:, :-4]\n",
    "    SW_W = padded_3_cfa[4:-2, 1:-5]\n",
    "    SW_S = padded_3_cfa[5:-1, 2:-4]\n",
    "    \n",
    "    cmap_N_1 = padded_color_map[1:-3, 2:-2]\n",
    "    cmap_E_1 = padded_color_map[2:-2, 3:-1]\n",
    "    cmap_S_1 = padded_color_map[3:-1, 2:-2]\n",
    "    cmap_W_1 = padded_color_map[2:-2, 1:-3]\n",
    "    \n",
    "    #calc directions\n",
    "    G_N = np.where(color_map == G, (cfa + N_2) / 2, N_1)\n",
    "    G_E = np.where(color_map == G, (cfa + E_2) / 2, E_1)\n",
    "    G_S = np.where(color_map == G, (cfa + S_2) / 2, S_1)\n",
    "    G_W = np.where(color_map == G, (cfa + W_2) / 2, W_1)\n",
    "    G_NE = np.where(color_map == G, NE_1, (NE_N + NE_E + N_1 + E_1) / 4) \n",
    "    G_SE = np.where(color_map == G, SE_1, (SE_E + SE_S + E_1 + S_1) / 4)\n",
    "    G_NW = np.where(color_map == G, NW_1, (NW_N + NW_W + N_1 + W_1) / 4)\n",
    "    G_SW = np.where(color_map == G, SW_1, (SW_W + SW_S + S_1 + W_1) / 4)\n",
    "    \n",
    "    R_N = np.where(color_map == R, (cfa + N_2) / 2, \n",
    "                   np.where(color_map == B, (NE_1 + NW_1) / 2, \n",
    "                       np.where(cmap_N_1 == R, N_1, (NE_N + NW_N + E_1 + W_1) / 4)))\n",
    "    R_E = np.where(color_map == R, (cfa + E_2) / 2, \n",
    "                  np.where(color_map == B, (NE_1 + SE_1) / 2,\n",
    "                       np.where(cmap_E_1 == R, E_1, (NE_E + SE_E + N_1 + S_1) / 4))) \n",
    "    R_S = np.where(color_map == R, (cfa + S_2) / 2,\n",
    "                  np.where(color_map == B, (SE_1 + SW_1) / 2,\n",
    "                       np.where(cmap_S_1 == R, S_1, (SE_S + SW_S + E_1 + W_1) / 4)))\n",
    "    R_W = np.where(color_map == R, (cfa + W_2) / 2,\n",
    "                  np.where(color_map == B, (NW_1 + SW_1) / 2, \n",
    "                       np.where(cmap_W_1 == R, W_1, (NW_W + SW_W + N_1 + S_1) / 4)))\n",
    "    R_NE = np.where(color_map == R, (cfa + N_2 + E_2 + NE_2) / 4,\n",
    "                   np.where(color_map == B, NE_1,\n",
    "                       np.where(cmap_E_1 == R, (E_1 + NE_N) / 2, (N_1 + NE_E) / 2)))\n",
    "    R_SE = np.where(color_map == R, (cfa + E_2 + S_2 + SE_2) / 4,\n",
    "                   np.where(color_map == B, SE_1,\n",
    "                       np.where(cmap_E_1 == R, (E_1 + SE_S) / 2, (S_1 + SE_E) / 2)))\n",
    "    R_NW = np.where(color_map == R, (cfa + N_2 + W_2 + NW_2) / 4,\n",
    "                   np.where(color_map == B, NW_1,\n",
    "                       np.where(cmap_W_1 == R, (W_1 + NW_N) / 2, (N_1 + NW_W) / 2)))\n",
    "    R_SW = np.where(color_map == R, (cfa + S_2 + W_2 + SW_2) / 4,\n",
    "                   np.where(color_map == B, SW_1,\n",
    "                       np.where(cmap_W_1 == R, (W_1 + SW_S) / 2, (S_1 + SW_W) / 2)))\n",
    "    \n",
    "    B_N = np.where(color_map == B, (cfa + N_2) / 2, \n",
    "                   np.where(color_map == R, (NE_1 + NW_1) / 2, \n",
    "                       np.where(cmap_N_1 == B, N_1, (NE_N + NW_N + E_1 + W_1) / 4)))\n",
    "    B_E = np.where(color_map == B, (cfa + E_2) / 2, \n",
    "                  np.where(color_map == R, (NE_1 + SE_1) / 2,\n",
    "                       np.where(cmap_E_1 == B, E_1, (NE_E + SE_E + N_1 + S_1) / 4))) \n",
    "    B_S = np.where(color_map == B, (cfa + S_2) / 2,\n",
    "                  np.where(color_map == R, (SE_1 + SW_1) / 2,\n",
    "                       np.where(cmap_S_1 == B, S_1, (SE_S + SW_S + E_1 + W_1) / 4)))\n",
    "    B_W = np.where(color_map == B, (cfa + W_2) / 2,\n",
    "                  np.where(color_map == R, (NW_1 + SW_1) / 2, \n",
    "                       np.where(cmap_W_1 == B, W_1, (NW_W + SW_W + N_1 + S_1) / 4)))\n",
    "    B_NE = np.where(color_map == B, (cfa + N_2 + E_2 + NE_2) / 4,\n",
    "                   np.where(color_map == R, NE_1,\n",
    "                       np.where(cmap_E_1 == B, (E_1 + NE_N) / 2, (N_1 + NE_E) / 2)))\n",
    "    B_SE = np.where(color_map == B, (cfa + E_2 + S_2 + SE_2) / 4,\n",
    "                   np.where(color_map == R, SE_1,\n",
    "                       np.where(cmap_E_1 == B, (E_1 + SE_S) / 2, (S_1 + SE_E) / 2)))\n",
    "    B_NW = np.where(color_map == B, (cfa + N_2 + W_2 + NW_2) / 4,\n",
    "                   np.where(color_map == R, NW_1,\n",
    "                       np.where(cmap_W_1 == B, (W_1 + NW_N) / 2, (N_1 + NW_W) / 2)))\n",
    "    B_SW = np.where(color_map == B, (cfa + S_2 + W_2 + SW_2) / 4,\n",
    "                   np.where(color_map == R, SW_1,\n",
    "                       np.where(cmap_W_1 == B, (W_1 + SW_S) / 2, (S_1 + SW_W) / 2)))\n",
    "    \n",
    "    # calc diffs for directions\n",
    "    N_2, E_2, S_2, W_2, NE_1, NE_2, SE_1, SE_2, NW_1, NW_2, SW_1, SW_2 = np.abs(cfa -\n",
    "                                 np.stack((N_2, E_2, S_2, W_2, NE_1, NE_2, SE_1, SE_2, NW_1, NW_2, SW_1, SW_2)))\n",
    "    # for red/blue center: 2 diffs with step 1 for green and 1 diff with step 2 for red/blue\n",
    "    padded_NE_1 = np.pad(NE_1, ((1, 1), (1, 1)), 'constant', constant_values=0)\n",
    "    NE_1 = (NE_1 + padded_NE_1[:-2, 2:]) / 2\n",
    "    NE_1 = np.where(color_map == G, NE_1, NE_2)\n",
    "    padded_SE_1 = np.pad(SE_1, ((1, 1), (1, 1)), 'constant', constant_values=0)\n",
    "    SE_1 = (SE_1 + padded_SE_1[2:, 2:]) / 2\n",
    "    SE_1 = np.where(color_map == G, SE_1, SE_2)\n",
    "    padded_NW_1 = np.pad(NW_1, ((1, 1), (1, 1)), 'constant', constant_values=0)\n",
    "    NW_1 = (NW_1 + padded_NW_1[:-2, :-2]) / 2\n",
    "    NW_1 = np.where(color_map == G, NW_1, NW_2)\n",
    "    padded_SW_1 = np.pad(SW_1, ((1, 1), (1, 1)), 'constant', constant_values=0)\n",
    "    SW_1 = (SW_1 + padded_SW_1[2:, :-2]) / 2\n",
    "    SW_1 = np.where(color_map == G, SW_1, SW_2)\n",
    "    # now some diffs contain not valid values, but we won't use them further\n",
    "\n",
    "    # calc gradients using convs on diffs\n",
    "    # OK, that also can be done without convs, but seems overkill\n",
    "    N_filter = np.array([[0, 0, 0, 0, 0],\n",
    "                         [0, 0, 0, 0, 0],\n",
    "                         [0, 0.5, 1, 0.5, 0],\n",
    "                         [0, 0.5, 1, 0.5, 0],\n",
    "                         [0, 0, 0, 0, 0]])\n",
    "    N_2 = signal.convolve2d(N_2, N_filter, mode='valid')\n",
    "\n",
    "    E_filter = np.array([[0, 0, 0, 0, 0],\n",
    "                         [0, 0.5, 0.5, 0, 0],\n",
    "                         [0, 1, 1, 0, 0],\n",
    "                         [0, 0.5, 0.5, 0, 0],\n",
    "                         [0, 0, 0, 0, 0]])\n",
    "    E_2 = signal.convolve2d(E_2, E_filter, mode='valid')\n",
    "\n",
    "    S_filter = np.array([[0, 0, 0, 0, 0],\n",
    "                         [0, 0.5, 1, 0.5, 0],\n",
    "                         [0, 0.5, 1, 0.5, 0],\n",
    "                         [0, 0, 0, 0, 0],\n",
    "                         [0, 0, 0, 0, 0]])\n",
    "    S_2 = signal.convolve2d(S_2, S_filter, mode='valid')\n",
    "\n",
    "    W_filter = np.array([[0, 0, 0, 0, 0],\n",
    "                         [0, 0, 0.5, 0.5, 0],\n",
    "                         [0, 0, 1, 1, 0],\n",
    "                         [0, 0, 0.5, 0.5, 0],\n",
    "                         [0, 0, 0, 0, 0]])\n",
    "    W_2 = signal.convolve2d(W_2, W_filter, mode='valid')\n",
    "\n",
    "    NE_filter = np.array([[0, 0, 0, 0, 0],\n",
    "                          [0, 0, 0, 0, 0],\n",
    "                          [0, 1, 1, 0, 0],\n",
    "                          [0, 1, 1, 0, 0],\n",
    "                          [0, 0, 0, 0, 0]])\n",
    "    NE_1 = signal.convolve2d(NE_1, NE_filter, mode='valid')\n",
    "    NE_2 = signal.convolve2d(NE_2, NE_filter, mode='valid')\n",
    "\n",
    "    SE_filter = np.array([[0, 0, 0, 0, 0],\n",
    "                          [0, 1, 1, 0, 0],\n",
    "                          [0, 1, 1, 0, 0],\n",
    "                          [0, 0, 0, 0, 0],\n",
    "                          [0, 0, 0, 0, 0]])\n",
    "    SE_1 = signal.convolve2d(SE_1, SE_filter, mode='valid')\n",
    "    SE_2 = signal.convolve2d(SE_2, SE_filter, mode='valid')\n",
    "\n",
    "    NW_filter = np.array([[0, 0, 0, 0, 0],\n",
    "                          [0, 0, 0, 0, 0],\n",
    "                          [0, 0, 1, 1, 0],\n",
    "                          [0, 0, 1, 1, 0],\n",
    "                          [0, 0, 0, 0, 0]])\n",
    "    NW_1 = signal.convolve2d(NW_1, NW_filter, mode='valid')\n",
    "    NW_2 = signal.convolve2d(NW_2, NW_filter, mode='valid')\n",
    "\n",
    "    SW_filter = np.array([[0, 0, 0, 0, 0],\n",
    "                          [0, 0, 1, 1, 0],\n",
    "                          [0, 0, 1, 1, 0],\n",
    "                          [0, 0, 0, 0, 0],\n",
    "                          [0, 0, 0, 0, 0]])\n",
    "    SW_1 = signal.convolve2d(SW_1, SW_filter, mode='valid')\n",
    "    SW_2 = signal.convolve2d(SW_2, SW_filter, mode='valid')\n",
    "    return ((R_N, R_E, R_S, R_W, R_NE, R_SE, R_NW, R_SW), \n",
    "            (G_N, G_E, G_S, G_W, G_NE, G_SE, G_NW, G_SW), \n",
    "            (B_N, B_E, B_S, B_W, B_NE, B_SE, B_NW, B_SW), \n",
    "            (N_2,E_2,S_2,W_2,NE_1,NE_2,SE_1,SE_2,NW_1,NW_2,SW_1,SW_2))"
   ]
  },
  {
   "cell_type": "markdown",
   "id": "f3055d58",
   "metadata": {},
   "source": [
    "#### Шаг 3. Интреполируем неизвестные интенсивности"
   ]
  },
  {
   "cell_type": "code",
   "execution_count": null,
   "id": "b9989ea8",
   "metadata": {},
   "outputs": [],
   "source": [
    "def interpolate(cfa: np.array, rgb_cfa: np.array):\n",
    "    # calc color map\n",
    "    BAYER_FILTER = np.apply_along_axis(get_color, -1, rgb_cfa[:2, :2])\n",
    "    cfa_x, cfa_y = cfa.shape\n",
    "    bayer_x, bayer_y = BAYER_FILTER.shape\n",
    "    reps = math.ceil(cfa_x / bayer_x), math.ceil(cfa_y / bayer_y)\n",
    "    color_map = np.tile(BAYER_FILTER, reps)[:cfa_x, :cfa_y]\n",
    "    \n",
    "    # calc directions and grads \n",
    "    R, G, B, grads = calc_directions_and_grads(cfa, color_map)\n",
    "    \n",
    "    "
   ]
  }
 ],
 "metadata": {
  "kernelspec": {
   "display_name": "Python 3 (ipykernel)",
   "language": "python",
   "name": "python3"
  },
  "language_info": {
   "codemirror_mode": {
    "name": "ipython",
    "version": 3
   },
   "file_extension": ".py",
   "mimetype": "text/x-python",
   "name": "python",
   "nbconvert_exporter": "python",
   "pygments_lexer": "ipython3",
   "version": "3.8.8"
  }
 },
 "nbformat": 4,
 "nbformat_minor": 5
}
