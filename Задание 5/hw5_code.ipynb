{
 "cells": [
  {
   "cell_type": "code",
   "execution_count": 50,
   "id": "c2153097",
   "metadata": {},
   "outputs": [
    {
     "name": "stdout",
     "output_type": "stream",
     "text": [
      "Requirement already satisfied: pillow in c:\\users\\t.nurgaliev\\pycharmprojects\\pythonproject\\venv\\lib\\site-packages (8.4.0)\n"
     ]
    },
    {
     "name": "stderr",
     "output_type": "stream",
     "text": [
      "WARNING: You are using pip version 21.3; however, version 22.0.4 is available.\n",
      "You should consider upgrading via the 'c:\\users\\t.nurgaliev\\pycharmprojects\\pythonproject\\venv\\scripts\\python.exe -m pip install --upgrade pip' command.\n"
     ]
    },
    {
     "name": "stdout",
     "output_type": "stream",
     "text": [
      "Requirement already satisfied: numpy in c:\\users\\t.nurgaliev\\pycharmprojects\\pythonproject\\venv\\lib\\site-packages (1.21.3)\n"
     ]
    },
    {
     "name": "stderr",
     "output_type": "stream",
     "text": [
      "WARNING: You are using pip version 21.3; however, version 22.0.4 is available.\n",
      "You should consider upgrading via the 'c:\\users\\t.nurgaliev\\pycharmprojects\\pythonproject\\venv\\scripts\\python.exe -m pip install --upgrade pip' command.\n"
     ]
    },
    {
     "name": "stdout",
     "output_type": "stream",
     "text": [
      "Requirement already satisfied: matplotlib in c:\\users\\t.nurgaliev\\pycharmprojects\\pythonproject\\venv\\lib\\site-packages (3.4.3)\n",
      "Requirement already satisfied: numpy>=1.16 in c:\\users\\t.nurgaliev\\pycharmprojects\\pythonproject\\venv\\lib\\site-packages (from matplotlib) (1.21.3)\n",
      "Requirement already satisfied: cycler>=0.10 in c:\\users\\t.nurgaliev\\pycharmprojects\\pythonproject\\venv\\lib\\site-packages (from matplotlib) (0.10.0)\n",
      "Requirement already satisfied: python-dateutil>=2.7 in c:\\users\\t.nurgaliev\\pycharmprojects\\pythonproject\\venv\\lib\\site-packages (from matplotlib) (2.8.2)\n",
      "Requirement already satisfied: kiwisolver>=1.0.1 in c:\\users\\t.nurgaliev\\pycharmprojects\\pythonproject\\venv\\lib\\site-packages (from matplotlib) (1.3.2)\n",
      "Requirement already satisfied: pyparsing>=2.2.1 in c:\\users\\t.nurgaliev\\pycharmprojects\\pythonproject\\venv\\lib\\site-packages (from matplotlib) (2.4.7)\n",
      "Requirement already satisfied: pillow>=6.2.0 in c:\\users\\t.nurgaliev\\pycharmprojects\\pythonproject\\venv\\lib\\site-packages (from matplotlib) (8.4.0)\n",
      "Requirement already satisfied: six in c:\\users\\t.nurgaliev\\pycharmprojects\\pythonproject\\venv\\lib\\site-packages (from cycler>=0.10->matplotlib) (1.16.0)\n"
     ]
    },
    {
     "name": "stderr",
     "output_type": "stream",
     "text": [
      "WARNING: You are using pip version 21.3; however, version 22.0.4 is available.\n",
      "You should consider upgrading via the 'c:\\users\\t.nurgaliev\\pycharmprojects\\pythonproject\\venv\\scripts\\python.exe -m pip install --upgrade pip' command.\n"
     ]
    },
    {
     "name": "stdout",
     "output_type": "stream",
     "text": [
      "Requirement already satisfied: scipy in c:\\users\\t.nurgaliev\\pycharmprojects\\pythonproject\\venv\\lib\\site-packages (1.7.1)\n",
      "Requirement already satisfied: numpy<1.23.0,>=1.16.5 in c:\\users\\t.nurgaliev\\pycharmprojects\\pythonproject\\venv\\lib\\site-packages (from scipy) (1.21.3)\n"
     ]
    },
    {
     "name": "stderr",
     "output_type": "stream",
     "text": [
      "WARNING: You are using pip version 21.3; however, version 22.0.4 is available.\n",
      "You should consider upgrading via the 'c:\\users\\t.nurgaliev\\pycharmprojects\\pythonproject\\venv\\scripts\\python.exe -m pip install --upgrade pip' command.\n"
     ]
    },
    {
     "name": "stdout",
     "output_type": "stream",
     "text": [
      "Requirement already satisfied: opencv-python in c:\\users\\t.nurgaliev\\pycharmprojects\\pythonproject\\venv\\lib\\site-packages (4.5.4.58)\n",
      "Requirement already satisfied: numpy>=1.17.3 in c:\\users\\t.nurgaliev\\pycharmprojects\\pythonproject\\venv\\lib\\site-packages (from opencv-python) (1.21.3)\n"
     ]
    },
    {
     "name": "stderr",
     "output_type": "stream",
     "text": [
      "WARNING: You are using pip version 21.3; however, version 22.0.4 is available.\n",
      "You should consider upgrading via the 'c:\\users\\t.nurgaliev\\pycharmprojects\\pythonproject\\venv\\scripts\\python.exe -m pip install --upgrade pip' command.\n"
     ]
    }
   ],
   "source": [
    "! pip install pillow\n",
    "! pip install numpy\n",
    "! pip install matplotlib\n",
    "! pip install scipy\n",
    "! pip install opencv-python"
   ]
  },
  {
   "cell_type": "code",
   "execution_count": 100,
   "id": "23ec4e9f",
   "metadata": {},
   "outputs": [],
   "source": [
    "import numpy as np\n",
    "import cv2 as cv\n",
    "import matplotlib.pyplot as plt\n",
    "import time"
   ]
  },
  {
   "cell_type": "code",
   "execution_count": 53,
   "id": "c96425db",
   "metadata": {},
   "outputs": [],
   "source": [
    "images = [cv.imread(f'0{i}.tif', cv.IMREAD_GRAYSCALE) for i in range(1, 10)] \\\n",
    "+ [cv.imread(f'{i}.tif', cv.IMREAD_GRAYSCALE) for i in range(10, 13)]"
   ]
  },
  {
   "cell_type": "markdown",
   "id": "67ba05e4",
   "metadata": {},
   "source": [
    "#### Нахождение ОТ и вычисление дескрипторов"
   ]
  },
  {
   "cell_type": "code",
   "execution_count": 74,
   "id": "5f1c5a6f",
   "metadata": {},
   "outputs": [],
   "source": [
    "def calc_descriptors(img, detector):\n",
    "    if detector == 'ORB':\n",
    "        # Initiate ORB detector\n",
    "        orb = cv.ORB_create()\n",
    "        # find the keypoints and descriptors with ORB\n",
    "        kp, des = orb.detectAndCompute(img, None)\n",
    "        return des\n",
    "    elif detector == 'SIFT':\n",
    "        # Initiate SIFT detector\n",
    "        sift = cv.SIFT_create()\n",
    "        # find the keypoints and descriptors with SIFT\n",
    "        kp, des = sift.detectAndCompute(img, None)\n",
    "        return des\n",
    "    elif detector == 'HARRIS':\n",
    "        des = cv.cornerHarris(img, 2, 3, 0.04)\n",
    "        return des\n",
    "    else:\n",
    "        return []"
   ]
  },
  {
   "cell_type": "markdown",
   "id": "f944ebe5",
   "metadata": {},
   "source": [
    "#### Поиск соответствий между парами ОТ"
   ]
  },
  {
   "cell_type": "code",
   "execution_count": 55,
   "id": "cecbeea3",
   "metadata": {},
   "outputs": [],
   "source": [
    "from scipy.spatial.distance import hamming\n",
    "from numpy.linalg import norm as l2\n",
    "\n",
    "hamming_norm = lambda x, y: hamming(x, y) * len(x)\n",
    "l2_norm = lambda x, y: l2(x - y)\n",
    "\n",
    "norms = {'ORB': hamming_norm,\n",
    "         'SIFT': l2_norm,\n",
    "         'HARRIS': l2_norm }"
   ]
  },
  {
   "cell_type": "code",
   "execution_count": 56,
   "id": "57fd2261",
   "metadata": {},
   "outputs": [],
   "source": [
    "def min_idx_by(elem, arr, norm):\n",
    "    \"\"\"\n",
    "    :param elem: array[n]\n",
    "    :param arr: array[len, n]\n",
    "    :param norm: distance measurement\n",
    "    :returns: idx of arr elem with minimal distance to elem\n",
    "    \"\"\"\n",
    "    return np.argmin(list(map(lambda x: norm(elem, x), arr)))"
   ]
  },
  {
   "cell_type": "code",
   "execution_count": 57,
   "id": "f57533df",
   "metadata": {},
   "outputs": [],
   "source": [
    "def calc_matches(descriptors1, descriptors2, detector):\n",
    "    \"\"\"\n",
    "    :params descriptors1, descriptors2: array[keypoints_number, n] - keypoints descriptors\n",
    "    :param detector: used detector type (to choose correct distance measurement)\n",
    "    :returns: For each keypoint of the first image (descriptors1)\n",
    "                - whether it was found in the second one (descriptors2).\n",
    "              Two keypoints (i,j) match if i-th descriptor in descriptors1\n",
    "              has j-th descriptor in descriptors2 as the best match and vice-versa.\n",
    "    \"\"\"\n",
    "    matches = np.zeros(len(descriptors1))\n",
    "    norm = norms[detector]\n",
    "    for i, des1 in enumerate(descriptors1):\n",
    "        match = min_idx_by(des1, descriptors2, norm)\n",
    "        matches[i] = min_idx_by(descriptors2[match], descriptors1, norm) == i\n",
    "    return matches        "
   ]
  },
  {
   "cell_type": "markdown",
   "id": "f160f429",
   "metadata": {},
   "source": [
    "#### Подсчет воспроизводимостей"
   ]
  },
  {
   "cell_type": "code",
   "execution_count": 79,
   "id": "eccbb54a",
   "metadata": {},
   "outputs": [],
   "source": [
    "def calc_repeatabilities(images, detector):\n",
    "    descriptors = list(map(lambda x: calc_descriptors(x, detector), images))\n",
    "    repeatabilities = []\n",
    "    for i, des1 in enumerate(descriptors):\n",
    "        matches = np.zeros(len(des1), dtype=np.float32)\n",
    "        for j, des2 in enumerate(descriptors):\n",
    "            if i == j:\n",
    "                continue\n",
    "            matches += calc_matches(des1, des2, detector)\n",
    "        matches /= len(images) - 1\n",
    "        repeatabilities.append(np.mean(matches))\n",
    "    return repeatabilities"
   ]
  },
  {
   "cell_type": "code",
   "execution_count": 80,
   "id": "ed63adbc",
   "metadata": {},
   "outputs": [],
   "source": [
    "sift_repeatabilities = calc_repeatabilities(images, 'SIFT')"
   ]
  },
  {
   "cell_type": "code",
   "execution_count": 82,
   "id": "4c993271",
   "metadata": {},
   "outputs": [],
   "source": [
    "orb_repeatabilities = calc_repeatabilities(images, 'ORB')"
   ]
  },
  {
   "cell_type": "code",
   "execution_count": 83,
   "id": "5317a613",
   "metadata": {},
   "outputs": [],
   "source": [
    "harris_repeatabilitites = calc_repeatabilities(images, 'HARRIS')"
   ]
  },
  {
   "cell_type": "code",
   "execution_count": 85,
   "id": "90fd97f3",
   "metadata": {},
   "outputs": [],
   "source": [
    "repeatabilities = {'HARRIS': harris_repeatabilitites, \n",
    "                   'ORB': orb_repeatabilities, \n",
    "                   'SIFT': sift_repeatabilities}"
   ]
  },
  {
   "cell_type": "code",
   "execution_count": 90,
   "id": "b6415d7b",
   "metadata": {},
   "outputs": [
    {
     "data": {
      "image/png": "[encoded data removed]",
      "text/plain": [
       "<Figure size 864x648 with 1 Axes>"
      ]
     },
     "metadata": {
      "needs_background": "light"
     },
     "output_type": "display_data"
    }
   ],
   "source": [
    "image_numbers = np.arange(1, 13)\n",
    "fig, ax = plt.subplots(figsize=(12,9))\n",
    "\n",
    "for detector, rep in repeatabilities.items():\n",
    "    ax.plot(image_numbers, rep, label=detector)\n",
    "\n",
    "ax.minorticks_on()\n",
    "ax.grid(which='major')\n",
    "ax.grid(which='minor', \n",
    "        linestyle = ':')\n",
    "plt.title('Сравнение воспроизводимостей детекторов ключевых точек: HARRIS, ORB, SIFT')\n",
    "plt.xlabel('Номер изображения')\n",
    "plt.ylabel('Воспроизводимость (доля)')\n",
    "plt.legend()\n",
    "plt.show()"
   ]
  },
  {
   "cell_type": "markdown",
   "id": "75f531f4",
   "metadata": {},
   "source": [
    "#### Подсчет времени работы"
   ]
  },
  {
   "cell_type": "code",
   "execution_count": 105,
   "id": "3d511677",
   "metadata": {},
   "outputs": [],
   "source": [
    "def measure_time(images, detector):\n",
    "    start_time = time.time()\n",
    "    descriptors = list(map(lambda x: calc_descriptors(x, detector), images))\n",
    "    end_time = time.time()\n",
    "    n_points = np.sum(list(map(len, descriptors)))\n",
    "    return (end_time - start_time) / n_points"
   ]
  },
  {
   "cell_type": "code",
   "execution_count": 106,
   "id": "8c20afed",
   "metadata": {},
   "outputs": [],
   "source": [
    "sift_time = measure_time(images, 'SIFT')\n",
    "orb_time = measure_time(images, 'ORB')\n",
    "harris_time = measure_time(images, 'HARRIS')"
   ]
  },
  {
   "cell_type": "code",
   "execution_count": 107,
   "id": "3bbb2656",
   "metadata": {},
   "outputs": [],
   "source": [
    "times = {'HARRIS': harris_time, \n",
    "         'ORB': orb_time, \n",
    "         'SIFT': sift_time}"
   ]
  },
  {
   "cell_type": "code",
   "execution_count": 115,
   "id": "e796ae16",
   "metadata": {},
   "outputs": [
    {
     "name": "stdout",
     "output_type": "stream",
     "text": [
      "Время работы детектора (на одну ОТ):\n",
      "    HARRIS: 0.00728 мсек\n",
      "    ORB: 0.00784 мсек\n",
      "    SIFT: 0.03773 мсек\n"
     ]
    }
   ],
   "source": [
    "print(\"Время работы детектора (на одну ОТ):\")\n",
    "for detector, det_time in times.items():\n",
    "    print(f\"    {detector}: {det_time * 1000:.5f} мсек\")"
   ]
  }
 ],
 "metadata": {
  "kernelspec": {
   "display_name": "Python 3 (ipykernel)",
   "language": "python",
   "name": "python3"
  },
  "language_info": {
   "codemirror_mode": {
    "name": "ipython",
    "version": 3
   },
   "file_extension": ".py",
   "mimetype": "text/x-python",
   "name": "python",
   "nbconvert_exporter": "python",
   "pygments_lexer": "ipython3",
   "version": "3.8.8"
  }
 },
 "nbformat": 4,
 "nbformat_minor": 5
}